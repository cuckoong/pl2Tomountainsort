{
 "cells": [
  {
   "cell_type": "markdown",
   "metadata": {},
   "source": [
    "# import nessecary package and choose processeing files"
   ]
  },
  {
   "cell_type": "code",
   "execution_count": 1,
   "metadata": {},
   "outputs": [
    {
     "name": "stdout",
     "output_type": "stream",
     "text": [
      "The files being process is E:/Panda/PandaData/DatawithTimestamp/102/20190108_102.pl2\n"
     ]
    }
   ],
   "source": [
    "#import important modules and packages\n",
    "from pypl2 import pl2_ad, pl2_spikes, pl2_events, pl2_info\n",
    "import sys\n",
    "import os\n",
    "import numpy as np\n",
    "import time\n",
    "import scipy.io as sio\n",
    "\n",
    "#choose files,\n",
    "#get the filename of the pl2 files\n",
    "def choose_file():\n",
    "    try:\n",
    "        import Tkinter, tkFileDialog\n",
    "    except ImportError:\n",
    "        #print \"Tkinter not installed.\"\n",
    "        print \"Tkinter not installed.\"\n",
    "        exit()\n",
    "    \n",
    "    #Suppress the Tkinter root window\n",
    "    tkroot = Tkinter.Tk()\n",
    "    tkroot.withdraw()\n",
    "    \n",
    "    return str(tkFileDialog.askopenfilename())\n",
    "    \n",
    "if __name__ == \"__main__\":\n",
    "    \n",
    "    #If no file is passed at the command line, or if the file\n",
    "    #passed can not be found, open a file chooser window.\n",
    "    if len(sys.argv) < 2:\n",
    "        filename = os.path.abspath(choose_file())\n",
    "    else:\n",
    "        filename = os.path.abspath(sys.argv[1])\n",
    "        if not os.path.isfile(filename):\n",
    "            filename = choose_file()\n",
    "            \n",
    "\n",
    "print \"The files being process is \"+filename"
   ]
  },
  {
   "cell_type": "code",
   "execution_count": 2,
   "metadata": {
    "scrolled": true
   },
   "outputs": [
    {
     "name": "stdout",
     "output_type": "stream",
     "text": [
      "\n",
      "Continuous A/D Channel Info from pl2_info()\n",
      "\n",
      "length of recording is: 1079 seconds\n",
      "\n",
      "# Channel Name\tCount\n",
      "- ------------\t-----\n",
      "1 WB01      \t43199971\n",
      "2 WB02      \t43199971\n",
      "3 WB03      \t43199971\n",
      "4 WB04      \t43199971\n",
      "5 WB05      \t43199971\n",
      "6 WB06      \t43199971\n",
      "7 WB07      \t43199971\n",
      "8 WB08      \t43199971\n",
      "9 WB09      \t43199971\n",
      "10 WB10      \t43199971\n",
      "11 WB11      \t43199971\n",
      "12 WB12      \t43199971\n",
      "13 WB13      \t43199971\n",
      "14 WB14      \t43199971\n",
      "15 WB15      \t43199971\n",
      "16 WB16      \t43199971\n",
      "1 SPKC01    \t43199971\n",
      "2 SPKC02    \t43199971\n",
      "3 SPKC03    \t43199971\n",
      "4 SPKC04    \t43199971\n",
      "5 SPKC05    \t43199971\n",
      "6 SPKC06    \t43199971\n",
      "7 SPKC07    \t43199971\n",
      "8 SPKC08    \t43199971\n",
      "9 SPKC09    \t43199971\n",
      "10 SPKC10    \t43199971\n",
      "11 SPKC11    \t43199971\n",
      "12 SPKC12    \t43199971\n",
      "13 SPKC13    \t43199971\n",
      "14 SPKC14    \t43199971\n",
      "15 SPKC15    \t43199971\n",
      "16 SPKC16    \t43199971\n",
      "1 FP01      \t1080000\n",
      "2 FP02      \t1080000\n",
      "3 FP03      \t1080000\n",
      "4 FP04      \t1080000\n",
      "5 FP05      \t1080000\n",
      "6 FP06      \t1080000\n",
      "7 FP07      \t1080000\n",
      "8 FP08      \t1080000\n",
      "9 FP09      \t1080000\n",
      "10 FP10      \t1080000\n",
      "11 FP11      \t1080000\n",
      "12 FP12      \t1080000\n",
      "13 FP13      \t1080000\n",
      "14 FP14      \t1080000\n",
      "15 FP15      \t1080000\n",
      "16 FP16      \t1080000\n"
     ]
    }
   ],
   "source": [
    "#Get file info and print out interesting information, for chooseing the channel in WB\n",
    "spkinfo, evtinfo, adinfo = pl2_info(filename)\n",
    "print \"\\nContinuous A/D Channel Info from pl2_info()\"\n",
    "print \"\\nlength of recording is: \"+str(adinfo[0].n/40000) + \" seconds\"  #40kHz sampling rate for wb data\n",
    "print \"\\n# Channel Name\\tCount\"\n",
    "print \"- ------------\\t-----\"\n",
    "for n in range(len(adinfo)):\n",
    "    print \"%s %-10s\\t%s\" % (adinfo[n].channel, adinfo[n].name, adinfo[n].n)"
   ]
  },
  {
   "cell_type": "code",
   "execution_count": 3,
   "metadata": {},
   "outputs": [
    {
     "data": {
      "text/plain": [
       "['WB01',\n",
       " 'WB02',\n",
       " 'WB03',\n",
       " 'WB04',\n",
       " 'WB05',\n",
       " 'WB06',\n",
       " 'WB07',\n",
       " 'WB08',\n",
       " 'WB09',\n",
       " 'WB10',\n",
       " 'WB11',\n",
       " 'WB12',\n",
       " 'WB13',\n",
       " 'WB14',\n",
       " 'WB15',\n",
       " 'WB16']"
      ]
     },
     "execution_count": 3,
     "metadata": {},
     "output_type": "execute_result"
    }
   ],
   "source": [
    "#get the channel in WB, may reject those broken channel here\n",
    "wbChannel = list()\n",
    "for i in range(len(adinfo)):\n",
    "    name = adinfo[i].name\n",
    "    if 'WB' in name:\n",
    "        wbChannel.append(name)\n",
    "wbChannel"
   ]
  },
  {
   "cell_type": "code",
   "execution_count": 4,
   "metadata": {},
   "outputs": [
    {
     "name": "stdout",
     "output_type": "stream",
     "text": [
      "The new files will be saved in this path: F:/shift/recording/dataset20190108_102\n",
      "The new np array will be saved with the name: 20190108_102\n"
     ]
    }
   ],
   "source": [
    "#get the filename for np array save in other place\n",
    "base=os.path.basename(filename)\n",
    "savefilename = os.path.splitext(base)[0]\n",
    "savepath ='F:/shift/recording/dataset'+savefilename\n",
    "#savepath ='C:/Users/309i7/Downloads/mountainsort_examples/jupyter_examples/001_ms4_jupyter_example/nparrayfrompl2/'\n",
    "print \"The new files will be saved in this path: \" + savepath\n",
    "print \"The new np array will be saved with the name: \"+ savefilename\n",
    "\n",
    "if not os.path.exists(savepath):\n",
    "    os.mkdir(savepath)"
   ]
  },
  {
   "cell_type": "code",
   "execution_count": 7,
   "metadata": {},
   "outputs": [
    {
     "name": "stdout",
     "output_type": "stream",
     "text": [
      "WB01\n",
      "WB02\n",
      "WB03\n",
      "WB04\n",
      "WB05\n",
      "WB06\n",
      "WB07\n",
      "WB08\n",
      "WB09\n",
      "WB10\n",
      "WB11\n",
      "WB12\n",
      "WB13\n",
      "WB14\n",
      "WB15\n",
      "WB16\n",
      "279.082000017\n"
     ]
    }
   ],
   "source": [
    "#save using channel one by one in binary file,    \n",
    "#write each channel (WB data into .dat file, ie. raw binary file for mountainsort)\n",
    "t0 = time.time()\n",
    "\n",
    "for i in wbChannel:\n",
    "    #set the folder to save dataset\n",
    "    filepath = savepath+'/'+i\n",
    "    if not os.path.exists(filepath):\n",
    "        os.mkdir(filepath)\n",
    "        \n",
    "        \n",
    "    #directory struce:\n",
    "    #-shift/recording/datasetxxx/WBxx/xxxWBxxch.dat (xxx:date+rat no.; xx:channel)\n",
    "    f = open(filepath +'/'+savefilename+i+\"ch.dat\", \"wb\")\n",
    "    ad = pl2_ad(filename,i)\n",
    "    \n",
    "    #load each channel data\n",
    "    wb = np.array(ad.ad)    \n",
    "    #write to .dat file\n",
    "    wb.tofile(f)\n",
    "    \n",
    "    \n",
    "    print i\n",
    "    f.close()\n",
    "\n",
    "t1 = time.time() - t0\n",
    "print t1"
   ]
  },
  {
   "cell_type": "code",
   "execution_count": null,
   "metadata": {},
   "outputs": [],
   "source": [
    "#read from\n",
    "data1 = np.fromfile('data2.dat', dtype=\"float64\")"
   ]
  },
  {
   "cell_type": "code",
   "execution_count": null,
   "metadata": {},
   "outputs": [],
   "source": [
    "#copy this to the terminal for .dat to .mda conversion\n",
    "#dimesion: (-1, channels), -1 indicates auto-calculation\n",
    "#channel: (zeros-index based, include all channels you want to sort)\n",
    "#dtype & dtype_out:  float64\n",
    "\n",
    "#ml-run-process ephys.convert_array \\--inputs \\input:/mnt/e/Panda/PandaCode/PyPL2/data.dat --outputs \\output:/mn\n",
    "#t/e/Panda/PandaCode/PyPL2/data.mda --parameters \\format:dat format_out:mda dtype:float64 dtype_out:float64 channels:0,1,2,3 dimensions:-1,4"
   ]
  },
  {
   "cell_type": "markdown",
   "metadata": {},
   "source": [
    "# then go to the linux system for mountain sorting! "
   ]
  }
 ],
 "metadata": {
  "kernelspec": {
   "display_name": "Python 2",
   "language": "python",
   "name": "python2"
  },
  "language_info": {
   "codemirror_mode": {
    "name": "ipython",
    "version": 2
   },
   "file_extension": ".py",
   "mimetype": "text/x-python",
   "name": "python",
   "nbconvert_exporter": "python",
   "pygments_lexer": "ipython2",
   "version": "2.7.15"
  }
 },
 "nbformat": 4,
 "nbformat_minor": 2
}
