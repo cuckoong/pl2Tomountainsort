{
 "cells": [
  {
   "cell_type": "code",
   "execution_count": 1,
   "metadata": {},
   "outputs": [],
   "source": [
    "#import important modules and packages\n",
    "from pypl2 import pl2_ad, pl2_spikes, pl2_events, pl2_info\n",
    "import sys\n",
    "import os"
   ]
  },
  {
   "cell_type": "code",
   "execution_count": 2,
   "metadata": {},
   "outputs": [
    {
     "name": "stdout",
     "output_type": "stream",
     "text": [
      "The files being process is E:/Panda/PandaData/DatawithTimestamp/102/102-1_spl_001.pl2\n"
     ]
    }
   ],
   "source": [
    "#choose files,\n",
    "#get the filename of the pl2 files\n",
    "def choose_file():\n",
    "    try:\n",
    "        import Tkinter, tkFileDialog\n",
    "    except ImportError:\n",
    "        print \"Tkinter not installed.\"\n",
    "        exit()\n",
    "    \n",
    "    #Suppress the Tkinter root window\n",
    "    tkroot = Tkinter.Tk()\n",
    "    tkroot.withdraw()\n",
    "    \n",
    "    return str(tkFileDialog.askopenfilename())\n",
    "    \n",
    "if __name__ == \"__main__\":\n",
    "    \n",
    "    #If no file is passed at the command line, or if the file\n",
    "    #passed can not be found, open a file chooser window.\n",
    "    if len(sys.argv) < 2:\n",
    "        filename = os.path.abspath(choose_file())\n",
    "    else:\n",
    "        filename = os.path.abspath(sys.argv[1])\n",
    "        if not os.path.isfile(filename):\n",
    "            filename = choose_file()\n",
    "            \n",
    "print \"The files being process is \"+filename"
   ]
  },
  {
   "cell_type": "code",
   "execution_count": 4,
   "metadata": {
    "scrolled": true
   },
   "outputs": [
    {
     "name": "stdout",
     "output_type": "stream",
     "text": [
      "\n",
      "Continuous A/D Channel Info from pl2_info()\n",
      "\n",
      "length of recording is: 1079 seconds\n",
      "\n",
      "# Channel Name\tCount\n",
      "- ------------\t-----\n",
      "1 WB01      \t43199971\n",
      "2 WB02      \t43199971\n",
      "3 WB03      \t43199971\n",
      "4 WB04      \t43199971\n",
      "5 WB05      \t43199971\n",
      "6 WB06      \t43199971\n",
      "7 WB07      \t43199971\n",
      "8 WB08      \t43199971\n",
      "9 WB09      \t43199971\n",
      "10 WB10      \t43199971\n",
      "11 WB11      \t43199971\n",
      "12 WB12      \t43199971\n",
      "13 WB13      \t43199971\n",
      "14 WB14      \t43199971\n",
      "15 WB15      \t43199971\n",
      "16 WB16      \t43199971\n",
      "1 SPKC01    \t43199971\n",
      "2 SPKC02    \t43199971\n",
      "3 SPKC03    \t43199971\n",
      "4 SPKC04    \t43199971\n",
      "5 SPKC05    \t43199971\n",
      "6 SPKC06    \t43199971\n",
      "7 SPKC07    \t43199971\n",
      "8 SPKC08    \t43199971\n",
      "9 SPKC09    \t43199971\n",
      "10 SPKC10    \t43199971\n",
      "11 SPKC11    \t43199971\n",
      "12 SPKC12    \t43199971\n",
      "13 SPKC13    \t43199971\n",
      "14 SPKC14    \t43199971\n",
      "15 SPKC15    \t43199971\n",
      "16 SPKC16    \t43199971\n",
      "1 FP01      \t1080000\n",
      "2 FP02      \t1080000\n",
      "3 FP03      \t1080000\n",
      "4 FP04      \t1080000\n",
      "5 FP05      \t1080000\n",
      "6 FP06      \t1080000\n",
      "7 FP07      \t1080000\n",
      "8 FP08      \t1080000\n",
      "9 FP09      \t1080000\n",
      "10 FP10      \t1080000\n",
      "11 FP11      \t1080000\n",
      "12 FP12      \t1080000\n",
      "13 FP13      \t1080000\n",
      "14 FP14      \t1080000\n",
      "15 FP15      \t1080000\n",
      "16 FP16      \t1080000\n",
      "\n",
      "Spike Channel Info from pl2_info()\n",
      "\n",
      "# Channel Name\tUnit A\tUnit B\tUnit C\tUnit D\tUnsorted\n",
      "- ------------\t------\t------\t------\t------\t--------\n",
      "1 SPK01     \t8525\t411\t0\t0\t14835\n",
      "2 SPK02     \t7860\t210\t0\t0\t6160\n",
      "3 SPK03     \t10003\t0\t0\t0\t3944\n",
      "4 SPK04     \t12978\t0\t0\t0\t9216\n",
      "5 SPK05     \t6401\t313\t0\t0\t6553\n",
      "6 SPK06     \t1372\t71\t0\t0\t5147\n",
      "7 SPK07     \t20998\t0\t0\t0\t69408\n",
      "8 SPK08     \t818\t48\t45\t0\t7974\n",
      "9 SPK09     \t11783\t1020\t0\t0\t36151\n",
      "10 SPK10     \t21881\t532\t0\t0\t21903\n",
      "11 SPK11     \t21293\t4867\t0\t0\t27261\n",
      "12 SPK12     \t27013\t0\t0\t0\t24006\n",
      "13 SPK13     \t6135\t0\t0\t0\t9788\n",
      "14 SPK14     \t10474\t10987\t64\t0\t18957\n",
      "15 SPK15     \t4720\t0\t0\t0\t6640\n",
      "16 SPK16     \t3788\t0\t0\t0\t3429\n",
      "\n",
      "Event Channel Info from pl2_info()\n",
      "\n",
      "# Channel Name\tCount\n",
      "- ------------\t-----\n",
      "1 Strobed   \t616\n"
     ]
    }
   ],
   "source": [
    "######################\n",
    "# get the information about spike, event, wb#\n",
    "######################\n",
    "\n",
    "#Get file info and print out interesting information\n",
    "spkinfo, evtinfo, adinfo = pl2_info(filename)\n",
    "\n",
    "print \"\\nContinuous A/D Channel Info from pl2_info()\"\n",
    "print \"\\nlength of recording is: \"+str(adinfo[0].n/40000) + \" seconds\"  #40kHz sampling rate for wb data\n",
    "print \"\\n# Channel Name\\tCount\"\n",
    "print \"- ------------\\t-----\"\n",
    "for n in range(len(adinfo)):\n",
    "    print \"%s %-10s\\t%s\" % (adinfo[n].channel, adinfo[n].name, adinfo[n].n)\n",
    "\n",
    "print \"\\nSpike Channel Info from pl2_info()\"\n",
    "print \"\\n# Channel Name\\tUnit A\\tUnit B\\tUnit C\\tUnit D\\tUnsorted\"\n",
    "print \"- ------------\\t------\\t------\\t------\\t------\\t--------\"\n",
    "for n in range(len(spkinfo)):\n",
    "    print \"%s %-10s\\t%-2s\\t%1s\\t%s\\t%s\\t%s\" % (spkinfo[n].channel,\n",
    "                                               spkinfo[n].name,\n",
    "                                               spkinfo[n].units[1],\n",
    "                                               spkinfo[n].units[2],\n",
    "                                               spkinfo[n].units[3],\n",
    "                                               spkinfo[n].units[4],\n",
    "                                               spkinfo[n].units[0])\n",
    "\n",
    "print \"\\nEvent Channel Info from pl2_info()\"\n",
    "print \"\\n# Channel Name\\tCount\"\n",
    "print \"- ------------\\t-----\"\n",
    "for n in range(len(evtinfo)):\n",
    "    print \"%s %-10s\\t%s\" % (evtinfo[n].channel, evtinfo[n].name, evtinfo[n].n)\n"
   ]
  },
  {
   "cell_type": "code",
   "execution_count": null,
   "metadata": {
    "scrolled": true
   },
   "outputs": [],
   "source": [
    "\n",
    "###########################################\n",
    "# pl2_ad, pl2_spikes, pl2_events Examples #\n",
    "###########################################\n",
    "\n",
    "#Get continuous a/d data on first channel and print out interesting information\n",
    "ad = pl2_ad(filename, 0)\n",
    "print \"\\nContinuous A/D Channel 0 Data from pl2_ad()\"\n",
    "print \"\\nFrequency Number of Points First Four A/D Points (mV)\"\n",
    "print \"--------- ---------------- ---------------------\"\n",
    "print \"%-10s%-17s%s, %s, %s, %s\" % (int(ad.adfrequency),\n",
    "                                    ad.n,\n",
    "                                    ad.ad[0] * 1000,\n",
    "                                    ad.ad[1] * 1000,\n",
    "                                    ad.ad[2] * 1000,\n",
    "                                    ad.ad[3] * 1000)\n"
   ]
  },
  {
   "cell_type": "code",
   "execution_count": null,
   "metadata": {
    "scrolled": true
   },
   "outputs": [],
   "source": [
    "channel_num = 16\n",
    "import numpy as np\n",
    "import time\n",
    "import scipy.io as sio\n",
    "wb = ();\n",
    "t0 = time.time()\n",
    "for i in range(channel_num):\n",
    "    ad = pl2_ad(filename,i)\n",
    "    wb = np.append(wb, ad.ad)\n",
    "    print i\n",
    "dat = wb.reshape(channel_num,len(ad.ad))\n",
    "#save dat to binary files for mountainsort \n",
    "np.save('mytestdata', dat)\n",
    "#newFile = open('pl2raw.txt','wb')\n",
    "#newFileByteArray = bytearray(dat)\n",
    "#newFile.write(newFileByteArray )\n",
    "#newFile.close()\n",
    "#del dat\n",
    "t1 = time.time() - t0\n",
    "print t1\n",
    "#save RAM space\n",
    "#sio.savemat('dat.mat', {'dat':dat})\n",
    "#save the matfile for FAST processing"
   ]
  },
  {
   "cell_type": "code",
   "execution_count": null,
   "metadata": {},
   "outputs": [],
   "source": [
    "#Get spikes on first channel and print out interesting information on the first four spikes.\n",
    "spikes = pl2_spikes(filename, 0)\n",
    "if spikes==0:\n",
    "    print \"no spikes detected\"\n",
    "else:\n",
    "    print \"\\nSpike Channel 0 Data for First Four Waveforms from pl2_spikes()\"\n",
    "    print \"\\nTimestamps (s) Unit First Four Waveform Points (uV)\"\n",
    "    print \"-------------- ---- -------------------------------\"\n",
    "    for n in range(4):\n",
    "        print \"%-15s%-5s%s, %s, %s, %s\" % (spikes.timestamps[n],\n",
    "                                           spikes.units[n],\n",
    "                                           spikes.waveforms[n][0] * 1000000,\n",
    "                                           spikes.waveforms[n][1] * 1000000,\n",
    "                                           spikes.waveforms[n][2] * 1000000,\n",
    "                                           spikes.waveforms[n][3] * 1000000)"
   ]
  },
  {
   "cell_type": "code",
   "execution_count": 5,
   "metadata": {},
   "outputs": [
    {
     "name": "stdout",
     "output_type": "stream",
     "text": [
      "\n",
      "Event Data from pl2_events()\n",
      "\n",
      "Event   Number of Events First Timestamp (s)\n",
      "------- ---------------- -------------------\n",
      "Strobed 616              0.071725\n",
      "\n",
      "First Ten Strobe Values from pl2_events()\n",
      "\n",
      "Strobe Value Timestamp (s)\n",
      "------------ -------------\n",
      "84           0.071725\n",
      "16           0.5975\n",
      "26           1.32035\n",
      "64           1.98785\n",
      "242          2.1904\n",
      "2            8.51925\n",
      "6            8.58245\n",
      "68           9.069925\n",
      "16           9.647925\n",
      "4            10.17545\n"
     ]
    }
   ],
   "source": [
    "#Get event data on select channels and print out interesting information\n",
    "print \"\\nEvent Data from pl2_events()\"\n",
    "print \"\\nEvent   Number of Events First Timestamp (s)\"\n",
    "print \"------- ---------------- -------------------\"\n",
    "\n",
    "for n in range(len(evtinfo)):\n",
    "    evt = pl2_events(filename, evtinfo[n].name)\n",
    "    print \"%-7s %-16s %s\" % (evtinfo[n].name, evt.n, evt.timestamps[0])\n",
    "\n",
    "#Get strobed event data and print out interesting information\n",
    "strobedevt = pl2_events(filename, 'Strobed')\n",
    "print \"\\nFirst Ten Strobe Values from pl2_events()\"\n",
    "print \"\\nStrobe Value Timestamp (s)\"\n",
    "print \"------------ -------------\"    \n",
    "for n in range(10):\n",
    "    print (\"%-12s %s\") % (strobedevt.values[n], strobedevt.timestamps[n])\n"
   ]
  },
  {
   "cell_type": "code",
   "execution_count": 6,
   "metadata": {},
   "outputs": [],
   "source": [
    "samples = strobedevt.timestamps*40000"
   ]
  },
  {
   "cell_type": "code",
   "execution_count": 15,
   "metadata": {},
   "outputs": [],
   "source": [
    "a = strobedevt.timestamps[1]*40000"
   ]
  },
  {
   "cell_type": "code",
   "execution_count": 16,
   "metadata": {},
   "outputs": [
    {
     "data": {
      "text/plain": [
       "23900.0"
      ]
     },
     "execution_count": 16,
     "metadata": {},
     "output_type": "execute_result"
    }
   ],
   "source": [
    "a"
   ]
  },
  {
   "cell_type": "code",
   "execution_count": null,
   "metadata": {},
   "outputs": [],
   "source": []
  }
 ],
 "metadata": {
  "kernelspec": {
   "display_name": "Python 2",
   "language": "python",
   "name": "python2"
  },
  "language_info": {
   "codemirror_mode": {
    "name": "ipython",
    "version": 2
   },
   "file_extension": ".py",
   "mimetype": "text/x-python",
   "name": "python",
   "nbconvert_exporter": "python",
   "pygments_lexer": "ipython2",
   "version": "2.7.15"
  }
 },
 "nbformat": 4,
 "nbformat_minor": 2
}
